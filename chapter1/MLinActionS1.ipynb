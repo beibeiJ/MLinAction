{
 "cells": [
  {
   "cell_type": "code",
   "execution_count": 1,
   "metadata": {
    "collapsed": true
   },
   "outputs": [],
   "source": [
    "from numpy import *"
   ]
  },
  {
   "cell_type": "code",
   "execution_count": 2,
   "metadata": {},
   "outputs": [
    {
     "data": {
      "text/plain": [
       "array([[0.60330561, 0.54885802, 0.20765129, 0.26923965],\n       [0.1687935 , 0.56611231, 0.62088844, 0.10790535],\n       [0.30927395, 0.03177413, 0.11805469, 0.77083635],\n       [0.35592891, 0.8939455 , 0.87872893, 0.93493945]])"
      ]
     },
     "execution_count": 2,
     "metadata": {},
     "output_type": "execute_result"
    }
   ],
   "source": [
    "random.rand(4,4)"
   ]
  },
  {
   "cell_type": "code",
   "execution_count": 3,
   "metadata": {},
   "outputs": [],
   "source": [
    "randMat=mat(random.rand(4,4))"
   ]
  },
  {
   "cell_type": "code",
   "execution_count": 4,
   "metadata": {},
   "outputs": [
    {
     "data": {
      "text/plain": [
       "matrix([[0.82968125, 0.06226326, 0.40433692, 0.6196608 ],\n        [0.71654729, 0.53430469, 0.06337785, 0.22492381],\n        [0.67207205, 0.80338005, 0.45934732, 0.93435721],\n        [0.27203005, 0.42448829, 0.09410072, 0.23606592]])"
      ]
     },
     "execution_count": 4,
     "metadata": {},
     "output_type": "execute_result"
    }
   ],
   "source": [
    "randMat\n"
   ]
  },
  {
   "cell_type": "code",
   "execution_count": 5,
   "metadata": {},
   "outputs": [
    {
     "data": {
      "text/plain": [
       "matrix([[  0.46006581,   1.8203104 ,  -0.2824228 ,  -1.82420283],\n        [  1.1387792 ,  -2.8836715 ,  -2.93403366,  11.37133658],\n        [ 13.63271977, -20.61986585, -19.41136837,  60.69232121],\n        [ -8.01216399,  11.30722219,  13.3391304 , -38.30265781]])"
      ]
     },
     "execution_count": 5,
     "metadata": {},
     "output_type": "execute_result"
    }
   ],
   "source": [
    "randMat.I"
   ]
  },
  {
   "cell_type": "code",
   "execution_count": 6,
   "metadata": {},
   "outputs": [],
   "source": [
    "invRandMat=randMat.I"
   ]
  },
  {
   "cell_type": "code",
   "execution_count": 7,
   "metadata": {},
   "outputs": [
    {
     "data": {
      "text/plain": [
       "matrix([[   13.05021356,   -19.2148612 ,   -24.32185156,    72.59103065],\n        [ -133.86782382,   199.46610265,   216.77652158,  -648.49429032],\n        [ -768.11610173,  1170.79807406,  1243.03319826, -3762.14249553],\n        [  497.92610902,  -755.33868166,  -800.76787377,  2419.8704236 ]])"
      ]
     },
     "execution_count": 7,
     "metadata": {},
     "output_type": "execute_result"
    }
   ],
   "source": [
    "invRandMat*invRandMat\n"
   ]
  },
  {
   "cell_type": "code",
   "execution_count": 8,
   "metadata": {},
   "outputs": [
    {
     "data": {
      "text/plain": [
       "matrix([[ 1.00000000e+00,  8.88178420e-16,  0.00000000e+00,\n          0.00000000e+00],\n        [-2.22044605e-16,  1.00000000e+00,  1.11022302e-15,\n         -1.77635684e-15],\n        [ 0.00000000e+00,  0.00000000e+00,  1.00000000e+00,\n          0.00000000e+00],\n        [ 0.00000000e+00,  6.66133815e-16,  4.44089210e-16,\n          1.00000000e+00]])"
      ]
     },
     "execution_count": 8,
     "metadata": {},
     "output_type": "execute_result"
    }
   ],
   "source": [
    "randMat*invRandMat\n"
   ]
  },
  {
   "cell_type": "code",
   "execution_count": 9,
   "metadata": {},
   "outputs": [
    {
     "data": {
      "text/plain": [
       "matrix([[ 0.00000000e+00,  8.88178420e-16,  0.00000000e+00,\n          0.00000000e+00],\n        [-2.22044605e-16,  1.99840144e-15,  1.11022302e-15,\n         -1.77635684e-15],\n        [ 0.00000000e+00,  0.00000000e+00,  0.00000000e+00,\n          0.00000000e+00],\n        [ 0.00000000e+00,  6.66133815e-16,  4.44089210e-16,\n          0.00000000e+00]])"
      ]
     },
     "execution_count": 9,
     "metadata": {},
     "output_type": "execute_result"
    }
   ],
   "source": [
    "randMat*invRandMat-eye(4)"
   ]
  },
  {
   "cell_type": "code",
   "execution_count": null,
   "metadata": {},
   "outputs": [],
   "source": []
  }
 ],
 "metadata": {
  "kernelspec": {
   "display_name": "Python 2",
   "language": "python",
   "name": "python2"
  },
  "language_info": {
   "codemirror_mode": {
    "name": "ipython",
    "version": 2
   },
   "file_extension": ".py",
   "mimetype": "text/x-python",
   "name": "python",
   "nbconvert_exporter": "python",
   "pygments_lexer": "ipython2",
   "version": "2.7.6"
  }
 },
 "nbformat": 4,
 "nbformat_minor": 0
}
